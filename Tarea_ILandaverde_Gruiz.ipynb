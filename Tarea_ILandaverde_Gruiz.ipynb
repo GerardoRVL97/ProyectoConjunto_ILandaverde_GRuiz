{
 "cells": [
  {
   "cell_type": "markdown",
   "metadata": {},
   "source": [
    "<img style=\"float: left; margin: 30px 15px 15px 15px;\" src=\"https://pngimage.net/wp-content/uploads/2018/06/logo-iteso-png-5.png\" width=\"300\" height=\"500\" /> \n",
    "    \n",
    "    \n",
    "### <font color='navy'> Simulación de procesos financieros. \n",
    "\n",
    "**Nombres:** Ivette Landaverde Mercado, Gerardo Ruiz Velasco Lazalde\n",
    "\n",
    "**Fecha:** 01 de febrero del 2021.\n",
    "\n",
    "**Expediente** : if722626, \n",
    "**Profesor:** Oscar David Jaramillo Zuluaga.\n",
    "\n",
    "# Tarea 1: Clase 2"
   ]
  },
  {
   "cell_type": "markdown",
   "metadata": {},
   "source": [
    "## Enunciado de tarea (Transcibirlo)\n",
    "> Descripción de la tarea"
   ]
  },
  {
   "cell_type": "markdown",
   "metadata": {},
   "source": [
    "# <font color='red'> Estudiante 1:"
   ]
  },
  {
   "cell_type": "markdown",
   "metadata": {},
   "source": [
    "### <font color='navy'> Ejercicio 1: Presentación con expectativas "
   ]
  },
  {
   "cell_type": "markdown",
   "metadata": {},
   "source": [
    "> Descripción de la tarea:\n",
    "\n",
    "En este nuevo notebook el ESTUDIANTE 1 debe realizar una presentación describiendo sus expectativas del curso."
   ]
  },
  {
   "cell_type": "markdown",
   "metadata": {},
   "source": [
    "### Ivette Landaverde Mercado:\n",
    "Estoy cursando el sexto semestre de la carrera y tengo algunos amigos mayores a los cuales el semestre pasado vi muy estresados con la clase de simulación así que no espero que sea sencilla, también me di cuenta que para todo trabajaban con GitHub y GitKraken lo cual me emociona porque creo que me será muy útil en un futuro no tan lejano, además el semestre pasado tuve una clase en la que trabajé un código con una compañera para un proyecto sin utilizar nada más que jupyter y si fue realmente muchísimo trabajo innecesario así que siendo sincera espero más aprender a usar bien estas plataformas y a mejorar mi nivel de programación que no es para nada óptimo que a simular como tal procesos financieros, claro que también quiero pero mi prioridad es lo antes mencionado."
   ]
  },
  {
   "cell_type": "markdown",
   "metadata": {},
   "source": [
    "### <font color='navy'>  Ejercicio 2:  Transcripción figura"
   ]
  },
  {
   "cell_type": "markdown",
   "metadata": {},
   "source": [
    "> Descripción de la tarea:\n",
    "\n",
    "En este nuevo notebook el ESTUDIANTE 1, debe realizar la transcipción de la Figura 1 respectivamente, haciendo uso de la sintaxis Markdown. "
   ]
  },
  {
   "cell_type": "markdown",
   "metadata": {},
   "source": [
    "\n",
    "\n",
    "| $i$ | $x$    | $f(x)$   |\n",
    "|-----|--------|----------|\n",
    "| $0$ | $-1$   | $0.3678$ |\n",
    "| <span style=\"color:red\">$1$</span> | <span style=\"color:red\">$-0.5$</span> | <span style=\"color:red\">$0.7788$</span> |\n",
    "| <span style=\"color:blue\">$2$</span> | <span style=\"color:blue\">$0$</span>    | <span style=\"color:blue\">$1$</span>      |\n",
    "| <span style=\"color:red\">$3$</span> | <span style=\"color:red\">$0.5$</span>  | <span style=\"color:red\">$0.7788$</span> |\n",
    "| $4$ | $1$    | $0.3678$ |\n",
    "\n"
   ]
  },
  {
   "cell_type": "markdown",
   "metadata": {},
   "source": [
    "$$\\text{Cuadro 1: Tabla de valores de 𝑓(𝑥)}$$\n",
    "                                                "
   ]
  },
  {
   "cell_type": "markdown",
   "metadata": {},
   "source": [
    "$$\\int_{x=-1}^{x=1} e^{-x^2} \\ dx≈ \\frac{0,5}{3}[f(-1)+f(1)+4(\\color{red}{f(-0,5) + f(0,5)}) + 2\\color{blue}{f(0)}]$$\n",
    "\n",
    "$$≈ \\frac{0,5}{3}[0,3678 +0,3678 +4(\\color{red}{0,7788 + 0,7788}) + 2\\cdot\\color{blue}{1}]≈1,4943$$\n"
   ]
  },
  {
   "cell_type": "markdown",
   "metadata": {},
   "source": [
    "$$\\text{A modo de verificación, se calculará por software, el valor del área para $n = 100$, un valor mucho}$$\n",
    "$$\\text{más elevado al que se utilizó anteriormente. Si lo calculado previamente es correcto, se esperaría que}$$\n",
    "$$\\text{sea próximo al valor presentado a continuación para ser una buena aproximación.}$$"
   ]
  },
  {
   "cell_type": "markdown",
   "metadata": {},
   "source": [
    "$$\\int_{-1}^1 e^{-x^2}dx \\approx 1,4936$$"
   ]
  },
  {
   "cell_type": "markdown",
   "metadata": {},
   "source": [
    "### <font color='navy'>  Ejercicio 3: Fibonacci"
   ]
  },
  {
   "cell_type": "markdown",
   "metadata": {},
   "source": [
    "> Descripción de la tarea:\n",
    "\n",
    "El ESTUDIANTE 1,realizará un programa que imprima la serie de fibonacci para sus primeros 100 términos en un array de python,usando la rama “master” del repositorio creado."
   ]
  },
  {
   "cell_type": "code",
   "execution_count": 6,
   "metadata": {},
   "outputs": [
    {
     "name": "stdout",
     "output_type": "stream",
     "text": [
      "la serie Fibonacci es: [0, 1, 1, 2, 3, 5, 8, 13, 21, 34, 55, 89, 144, 233, 377, 610, 987, 1597, 2584, 4181, 6765, 10946, 17711, 28657, 46368, 75025, 121393, 196418, 317811, 514229, 832040, 1346269, 2178309, 3524578, 5702887, 9227465, 14930352, 24157817, 39088169, 63245986, 102334155, 165580141, 267914296, 433494437, 701408733, 1134903170, 1836311903, 2971215073, 4807526976, 7778742049, 12586269025, 20365011074, 32951280099, 53316291173, 86267571272, 139583862445, 225851433717, 365435296162, 591286729879, 956722026041, 1548008755920, 2504730781961, 4052739537881, 6557470319842, 10610209857723, 17167680177565, 27777890035288, 44945570212853, 72723460248141, 117669030460994, 190392490709135, 308061521170129, 498454011879264, 806515533049393, 1304969544928657, 2111485077978050, 3416454622906707, 5527939700884757, 8944394323791464, 14472334024676221, 23416728348467685, 37889062373143906, 61305790721611591, 99194853094755497, 160500643816367088, 259695496911122585, 420196140727489673, 679891637638612258, 1100087778366101931, 1779979416004714189, 2880067194370816120, 4660046610375530309, 7540113804746346429, 12200160415121876738, 19740274219868223167, 31940434634990099905, 51680708854858323072, 83621143489848422977, 135301852344706746049, 218922995834555169026]\n"
     ]
    }
   ],
   "source": [
    "# Código de solución \n",
    "fibonacci = [0,1]\n",
    "for i in range(98):\n",
    "    fibonacci.append(fibonacci[-1]+fibonacci[-2])\n",
    "print(\"la serie Fibonacci es:\", fibonacci)\n"
   ]
  },
  {
   "cell_type": "markdown",
   "metadata": {},
   "source": [
    "# <font color='red'> Estudiante 2:"
   ]
  },
  {
   "cell_type": "markdown",
   "metadata": {},
   "source": [
    "###  <font color='navy'> Ejercicio 1: Presentación con expectativas"
   ]
  },
  {
   "cell_type": "markdown",
   "metadata": {},
   "source": [
    "> Descripción de la tarea:\n",
    "\n",
    "En este nuevo notebook el ESTUDIANTE 2 debe realizar una presentación describiendo sus expectativas del curso."
   ]
  },
  {
   "cell_type": "markdown",
   "metadata": {},
   "source": [
    "## Gerardo Ruiz Velasco Lazalde\n",
    "\n",
    "La verdad es que esta materia la debí de haber metido en el sexto semestre. Voy en octavo así que digamos que voy un año retrasado con respecto a SPF. Esto me dio una ventaja ya que la mayoría de mis compañeros ya le llevaron y me advirtieron que no es una materia sencilla, pero dedicándole tiempo y esfuerzo la podría sacar adelante. La verdad tengo muchas expectativas de modelar procesos financieros ya que en la materia de finanzas cuantitativas aprendí la parte teórica de muchos de ellos. Es algo que me da mucha curiosidad y me gustaría poner en práctica todos mis conocimientos y complementarlos con los de la clase. Me gusta la idea de reforzar mis bases de programación ya que se que el futuro de una gran parte de la oferta laboral estará en ese campo. \n",
    "\n"
   ]
  },
  {
   "cell_type": "markdown",
   "metadata": {},
   "source": [
    "###  <font color='navy'>Ejercicio 2:  Transcripción figura"
   ]
  },
  {
   "cell_type": "markdown",
   "metadata": {},
   "source": [
    "> Descripción de la tarea:\n",
    "\n",
    "En este nuevo notebook el ESTUDIANTE 2, debe realizar la transcipción de la Figura 2 respectivamente, haciendo uso de la sintaxis Markdown. "
   ]
  },
  {
   "cell_type": "markdown",
   "metadata": {},
   "source": [
    "| i                  | 1   | 2   | 3   | 4   | 5 | 6 | 7  |\n",
    "|--------------------|-----|-----|-----|-----|---|---|----|\n",
    "| $$E_{i}(V)$$       | 12  | 10  | 24  | 12  | - | - | -  |\n",
    "| $$r_{i}~(\\Omega)$$ | 0.1 | 0.5 | 0.2 | 0.5 | - | - | -  |\n",
    "| $$R_{i}~(\\Omega)$$ | 25  | 40  | 16  | 20  | 9 | 4 | 20 |"
   ]
  },
  {
   "cell_type": "markdown",
   "metadata": {},
   "source": [
    "<span style=\"color:dodgerblue\"> Kemma y Vorst (1990) <font color='black'> muestran que las opciones asiáticas con media geométrica continua se\n",
    "pueden valuar con el mismo enfoque de las opciones *plain vanilla*; solo se deben cambiar los\n",
    "parámetros de volatilidad $\\sigma$ por $\\sigma_{a}$, y el costo de acarreo $b$ por $b_{A}$.\n",
    "    De acuerdo con Kemma y Vorst, las fórmulas para valuar una opción una opción de compra y una opción de venta son:"
   ]
  },
  {
   "cell_type": "markdown",
   "metadata": {},
   "source": [
    "$$c\\approx S_te^{(b_A-r)(T-t)}\\phi(d_1)-Ke^{-r(T-t)}\\phi(d_2),$$     \n",
    "\n",
    "\n",
    "   \n",
    "$$p\\approx Ke^{-r(T-t)}\\phi(-d_2) - S_te^{(b_A-r)(T-t)}\\phi(-d_1).$$\n",
    "  \n",
    "con $d_1$ y $d_2$ dados por:\n",
    "\n",
    "$$d_1=\\frac{log(S_t/K)+(b_A+1/2\\sigma_a^2)(T-t)}{\\sigma\\sqrt{T-t}},$$.  \n",
    "\n",
    "$$d_2=d_1-\\sigma_a\\sqrt{T-t}.$$\n",
    "\n",
    "La función $\\phi(d)$ es la función de distribución normal acumulada de $E\\sim \\mathcal{N}(0,1)$. La volatilidad ajustada es igual a:\n",
    "\n",
    "$$\\sigma_a = \\frac{\\sigma}{\\sqrt{3}}$$\n",
    "\n",
    "mientras que el costo de acarreo ajustado es:\n",
    "\n",
    "$$b_a = \\frac{1}{2}(v - \\frac{\\sigma^2}{6})$$"
   ]
  },
  {
   "cell_type": "markdown",
   "metadata": {},
   "source": [
    "### <font color='navy'> Ejercicio 3: Problema asignado respectivamente"
   ]
  },
  {
   "cell_type": "markdown",
   "metadata": {},
   "source": [
    "> Descripción de la tarea:\n",
    "\n",
    "Por otro lado, el ESTUDIANTE 2,creando un “branch” llamado ejerPrograma, generará un programa que muestre los números primos del 0-100. Luego de que el ESTUDIANTE 2 haya terminado su programa, debe de realizar un “pull request” al ESTUDIANTE 1, ANTES de hacer un “merge” de la rama ejerPrograma en el proyecto principal (“master”). Luego de realizado estos pasos NO BORRAR LA RAMA CREADA (ejerPrograma)"
   ]
  },
  {
   "cell_type": "code",
   "execution_count": 4,
   "metadata": {},
   "outputs": [],
   "source": [
    "#Código de solución\n",
    "def Primo(l):\n",
    "    primos = []\n",
    "    for i in l:\n",
    "        p = 0\n",
    "        if i == 1:\n",
    "          primos.append(i)\n",
    "        else:\n",
    "          for j in range(1,i+1):\n",
    "            if i % j == 0:\n",
    "              p += 1\n",
    "          if p == 2:\n",
    "            primos.append(i)\n",
    "    return primos\n",
    " \n",
    "lista = list(range(2,101))"
   ]
  },
  {
   "cell_type": "markdown",
   "metadata": {},
   "source": [
    "### Respuesta planteada en el ejercicio usando (markdown)\n",
    " La respuesta es ........."
   ]
  },
  {
   "cell_type": "code",
   "execution_count": 5,
   "metadata": {},
   "outputs": [
    {
     "name": "stdout",
     "output_type": "stream",
     "text": [
      "[2, 3, 5, 7, 11, 13, 17, 19, 23, 29, 31, 37, 41, 43, 47, 53, 59, 61, 67, 71, 73, 79, 83, 89, 97]\n"
     ]
    }
   ],
   "source": [
    "print(Primo(lista))"
   ]
  }
 ],
 "metadata": {
  "kernelspec": {
   "display_name": "Python 3",
   "language": "python",
   "name": "python3"
  },
  "language_info": {
   "codemirror_mode": {
    "name": "ipython",
    "version": 3
   },
   "file_extension": ".py",
   "mimetype": "text/x-python",
   "name": "python",
   "nbconvert_exporter": "python",
   "pygments_lexer": "ipython3",
   "version": "3.7.4"
  }
 },
 "nbformat": 4,
 "nbformat_minor": 2
}
