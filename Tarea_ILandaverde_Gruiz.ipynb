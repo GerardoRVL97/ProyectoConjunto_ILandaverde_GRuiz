{
 "cells": [
  {
   "cell_type": "markdown",
   "metadata": {},
   "source": [
    "<img style=\"float: left; margin: 30px 15px 15px 15px;\" src=\"https://pngimage.net/wp-content/uploads/2018/06/logo-iteso-png-5.png\" width=\"300\" height=\"500\" /> \n",
    "    \n",
    "    \n",
    "### <font color='navy'> Simulación de procesos financieros. \n",
    "\n",
    "**Nombres:** Ivette Landaverde Mercado, \n",
    "\n",
    "**Fecha:** 30 de enero del 2021.\n",
    "\n",
    "**Expediente** : if722626, \n",
    "**Profesor:** Oscar David Jaramillo Zuluaga.\n",
    "\n",
    "# Tarea 1: Clase 2"
   ]
  },
  {
   "cell_type": "markdown",
   "metadata": {},
   "source": [
    "## Enunciado de tarea (Transcibirlo)\n",
    "> Descripción de la tarea"
   ]
  },
  {
   "cell_type": "markdown",
   "metadata": {},
   "source": [
    "# Estudiante 1:"
   ]
  },
  {
   "cell_type": "markdown",
   "metadata": {},
   "source": [
    "### Ejercicio 1: Presentación con expectativas"
   ]
  },
  {
   "cell_type": "markdown",
   "metadata": {},
   "source": [
    "> Descripción de la tarea"
   ]
  },
  {
   "cell_type": "code",
   "execution_count": null,
   "metadata": {},
   "outputs": [],
   "source": [
    "# Código de solución \n",
    ".\n",
    ".\n",
    ".\n",
    "."
   ]
  },
  {
   "cell_type": "markdown",
   "metadata": {},
   "source": [
    "### Respuesta planteada en el ejercicio usando (markdown)\n",
    " La respuesta es ........."
   ]
  },
  {
   "cell_type": "markdown",
   "metadata": {},
   "source": [
    "### Ejercicio 2:  Transcripción figura"
   ]
  },
  {
   "cell_type": "markdown",
   "metadata": {},
   "source": [
    "> Descripción de la tarea"
   ]
  },
  {
   "cell_type": "code",
   "execution_count": null,
   "metadata": {},
   "outputs": [],
   "source": [
    "# Código de solución \n",
    ".\n",
    ".\n",
    ".\n",
    ".\n",
    "\n"
   ]
  },
  {
   "cell_type": "markdown",
   "metadata": {},
   "source": [
    "### Respuesta planteada en el ejercicio usando (markdown)\n",
    " La respuesta es ........."
   ]
  },
  {
   "cell_type": "markdown",
   "metadata": {},
   "source": [
    "### Ejercicio 3: Problema asignado respectivamente"
   ]
  },
  {
   "cell_type": "markdown",
   "metadata": {},
   "source": [
    "> Descripción de la tarea"
   ]
  },
  {
   "cell_type": "code",
   "execution_count": null,
   "metadata": {},
   "outputs": [],
   "source": [
    "# Código de solución \n",
    ".\n",
    ".\n",
    ".\n",
    ".\n",
    "\n",
    "\n"
   ]
  },
  {
   "cell_type": "markdown",
   "metadata": {},
   "source": [
    "### Respuesta planteada en el ejercicio usando (markdown)\n",
    " La respuesta es ........."
   ]
  },
  {
   "cell_type": "markdown",
   "metadata": {},
   "source": [
    "# Estudiante 2:"
   ]
  },
  {
   "cell_type": "markdown",
   "metadata": {},
   "source": [
    "### Ejercicio 1: Presentación con expectativas\n",
    "\n",
    "## Gerardo Ruiz Velasco Lazalde\n",
    "\n",
    "La verdad es que esta materia la debí de haber metido en el sexto semestre. Voy en octavo así que digamos que voy un año retrasado con respecto a SPF. Esto me dio una ventaja ya que la mayoría de mis compañeros ya le llevaron y me advirtieron que no es una materia sencilla, pero dedicándole tiempo y esfuerzo la podría sacar adelante. La verdad tengo muchas expectativas de modelar procesos financieros ya que en la materia de finanzas cuantitativas aprendí la parte teórica de muchos de ellos. Es algo que me da mucha curiosidad y me gustaría poner en práctica todos mis conocimientos y complementarlos con los de la clase. Me gusta la idea de reforzar mis bases de programación ya que se que el futuro de una gran parte de la oferta laboral estará en ese campo. \n",
    "\n"
   ]
  },
  {
   "cell_type": "markdown",
   "metadata": {},
   "source": [
    "> Descripción de la tarea:\n",
    "\n",
    "En este nuevo notebook el ESTUDIANTE 1 y ESTUDIANTE 2, deben realizar una presentación describiendo sus expectativas del curso y la transcipción de la Figura 1 y Figura 2 respectivamente, haciendo uso de la sintaxis Markdown. Recuerden definir unas celdas donde cada usuario modificará el cuaderno de python para evitar futuros conflictos."
   ]
  },
  {
   "cell_type": "markdown",
   "metadata": {},
   "source": [
    "### Ejercicio 2:  Transcripción figura\n",
    "| i | *x*   | *f(x)*   |\n",
    "|---|-----|--------|\n",
    "|0  |-1   |  0.3678|\n",
    "| <span style=\"color:red\">1</span> |<span style=\"color:red\">-0.5</span> | <span style=\"color:red\">0.7788</span> |\n",
    "| <span style=\"color:blue\">2</span> |<span style=\"color:blue\">0</span>| <span style=\"color:blue\">1</span>|\n",
    "| <span style=\"color:red\">3</span> |<span style=\"color:red\">0.5</span> | <span style=\"color:red\">0.7788</span> ||\n",
    "| 4 | 1   | 0.3679 |\n",
    "\n",
    "                                                Cuadro 1: Tabla de Valores de f(x)\n",
    "                                                \n",
    "\n",
    "$$\\int_{x=-1}^{x=1} e^{-x^2} \\ dx≈ \\frac{0,5}{3}[f(-1)+f(1)+4(f(-0,5) + f(0,5)) + 2f(0)]$$\n",
    "\n",
    "$$≈ \\frac{0,5}{3}[0,3678 +0,3678 +4(0,7788 + 0,7788) + 2*1]≈1,4943$$\n",
    "\n",
    "A modo de verificación, se calculará por software, el valor del área para $n = 100$, un valor mucho más elevado al que se utilizó anteriormente. Si lo calculado previamente es correcto, se esperaría que sea próximo al valor presentado a continuación para ser una buena aproximación."
   ]
  },
  {
   "cell_type": "markdown",
   "metadata": {},
   "source": [
    "### Ejercicio 3: Problema asignado respectivamente"
   ]
  },
  {
   "cell_type": "markdown",
   "metadata": {},
   "source": [
    "> Descripción de la tarea:\n",
    "\n",
    "Por otro lado, el ESTUDIANTE 2,creando un “branch” llamado ejerPrograma, generará un programa que muestre los números primos del 0-100. Luego de que el ESTUDIANTE 2 haya terminado su programa, debe de realizar un “pull request” al ESTUDIANTE 1, ANTES de hacer un “merge” de la rama ejerPrograma en el proyecto principal (“master”). Luego de realizado estos pasos NO BORRAR LA RAMA CREADA (ejerPrograma)"
   ]
  },
  {
   "cell_type": "code",
   "execution_count": 4,
   "metadata": {},
   "outputs": [],
   "source": [
    "def Primo(l):\n",
    "    primos = []\n",
    "    for i in l:\n",
    "        p = 0\n",
    "        if i == 1:\n",
    "          primos.append(i)\n",
    "        else:\n",
    "          for j in range(1,i+1):\n",
    "            if i % j == 0:\n",
    "              p += 1\n",
    "          if p == 2:\n",
    "            primos.append(i)\n",
    "    return primos\n",
    " \n",
    "lista = list(range(2,101))"
   ]
  },
  {
   "cell_type": "markdown",
   "metadata": {},
   "source": [
    "### Respuesta planteada en el ejercicio usando (markdown)\n",
    " La respuesta es ........."
   ]
  },
  {
   "cell_type": "code",
   "execution_count": 5,
   "metadata": {},
   "outputs": [
    {
     "name": "stdout",
     "output_type": "stream",
     "text": [
      "[2, 3, 5, 7, 11, 13, 17, 19, 23, 29, 31, 37, 41, 43, 47, 53, 59, 61, 67, 71, 73, 79, 83, 89, 97]\n"
     ]
    }
   ],
   "source": [
    "print(Primo(lista))"
   ]
  },
  {
   "cell_type": "code",
   "execution_count": null,
   "metadata": {},
   "outputs": [],
   "source": []
  }
 ],
 "metadata": {
  "kernelspec": {
   "display_name": "Python 3",
   "language": "python",
   "name": "python3"
  },
  "language_info": {
   "codemirror_mode": {
    "name": "ipython",
    "version": 3
   },
   "file_extension": ".py",
   "mimetype": "text/x-python",
   "name": "python",
   "nbconvert_exporter": "python",
   "pygments_lexer": "ipython3",
   "version": "3.7.1"
  }
 },
 "nbformat": 4,
 "nbformat_minor": 2
}
